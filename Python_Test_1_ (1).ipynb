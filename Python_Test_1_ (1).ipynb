{
  "nbformat": 4,
  "nbformat_minor": 0,
  "metadata": {
    "colab": {
      "provenance": []
    },
    "kernelspec": {
      "name": "python3",
      "display_name": "Python 3"
    },
    "language_info": {
      "name": "python"
    }
  },
  "cells": [
    {
      "cell_type": "markdown",
      "source": [
        "#Basics\n",
        "\n",
        "---\n",
        "\n",
        "\n",
        "\n",
        "---\n",
        "\n",
        "\n",
        "###Theory Questions\n",
        "\n",
        "1.   What is an expression?\n",
        "2.  What is a syntax error?\n",
        "4.  What is the result of this expression: \"*\" * 10\n",
        "1. What is the difference between True Division and Floor Division? Use the following code snippet for reference.\n",
        "\n",
        "          10 / 3\n",
        "          10 // 3\n",
        "2. What is the result of the following?\n",
        "\n",
        "          10 ** 3\n",
        "3. Given (x = 1), what will be the value of after we run (x += 2)?\n",
        "\n",
        "5. What is the result of float(1)?\n",
        "6. \"In Python, the maximum value for an integer is 2^63 - 1\". True or False?\n",
        "\n",
        "###Coding Questions\n",
        "1.  Write a code to find the square root of 328.\n",
        "4. Write a code to round a number in python.\n",
        "6. Write a code to find the roots ( x1 , x2 ) of the following quadratic equation:-\n",
        "         10x^2 - 20x + 30 = 0\n",
        "\n",
        "7. Given are the length of one side and one angle of right-angled-triangle, write a code to calculate the length of the remaining two sides of the triangle.\n",
        "Use the folling image as a reference.\n",
        "\n",
        "  [Hint:- You can use the 'math' library for this question.]\n",
        "\n",
        "  ![image.png](data:image/png;base64,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)"
      ],
      "metadata": {
        "id": "KnTiiLUVXqAk"
      }
    },
    {
      "cell_type": "code",
      "execution_count": null,
      "metadata": {
        "id": "HORD20JvXlCe"
      },
      "outputs": [],
      "source": [
        "#           BASICS\n",
        "\n",
        "# Q1:- What is an expression ?\n",
        "\n",
        "# Ans:- Expression was the representation of the value.Then many type of operators,function etc.the fact statement something while expression and represent of the value.\n"
      ]
    },
    {
      "cell_type": "code",
      "source": [
        "# Q2:- What is a syntax error ?\n",
        "\n",
        "# Ans:- Syntax error was the any mistake of the function that's syntax error.\n",
        "#       If you ever see the error message SyntaxError:,you probably forgot the final single quote character at the end of the string"
      ],
      "metadata": {
        "id": "fYFCzvUsHrwZ"
      },
      "execution_count": null,
      "outputs": []
    },
    {
      "cell_type": "code",
      "source": [],
      "metadata": {
        "id": "N9QEqYV7hASc"
      },
      "execution_count": null,
      "outputs": []
    },
    {
      "cell_type": "code",
      "source": [
        "# Q3:- What is the result of this expression: \"*\" * 10 ?\n",
        "# Ans:- This equation was the 'sting replication,that's the output was = '**********'.\n"
      ],
      "metadata": {
        "id": "Cghi4X-CHsF0"
      },
      "execution_count": null,
      "outputs": []
    },
    {
      "cell_type": "code",
      "source": [
        "# Q4:- What is the difference between True Division and Floor Division? Use the following code snippet for reference ?\n",
        "# Ans:- TRUE DIVISION = True division was the simple divided the value is called true division, Ex= /.\n",
        "#       FLOOR DIVISION = Floor division was the divided the value and remaining reminder value is called floor division, Ex= //."
      ],
      "metadata": {
        "id": "QnVsbY1bZnmC"
      },
      "execution_count": null,
      "outputs": []
    },
    {
      "cell_type": "code",
      "source": [
        "# Q5:- What is the result of the following  (10 ** 3)?\n",
        "# Ans:- '**' This operator was the exponential,the operator work is the 'square' dependent on the value. (10**3)=1000."
      ],
      "metadata": {
        "id": "y-xDwkCWazNZ"
      },
      "execution_count": null,
      "outputs": []
    },
    {
      "cell_type": "code",
      "source": [
        "# Q6:- Given (x = 1), what will be the value of after we run (x += 2)?\n",
        "# Ans:- x = x + 2 ."
      ],
      "metadata": {
        "id": "YYWE47zFcGPq"
      },
      "execution_count": null,
      "outputs": []
    },
    {
      "cell_type": "code",
      "source": [
        "# Q7:- What is the result of float(1)?\n",
        "# Ans:- 1.0"
      ],
      "metadata": {
        "id": "uLBR-9DocS1x"
      },
      "execution_count": null,
      "outputs": []
    },
    {
      "cell_type": "code",
      "source": [
        "# Q8:- \"In Python, the maximum value for an integer is 2^63 - 1\". True or False?\n",
        "# Ans:- True."
      ],
      "metadata": {
        "id": "18qGsRc3ce81"
      },
      "execution_count": null,
      "outputs": []
    },
    {
      "cell_type": "code",
      "source": [
        "#           CODING QUESTIONS\n",
        "\n",
        "# Q1:- Write a code to find the square root of 328.\n",
        "\n",
        "328**0.5"
      ],
      "metadata": {
        "colab": {
          "base_uri": "https://localhost:8080/"
        },
        "id": "YWmLxW0GdxSV",
        "outputId": "f2dab5c7-c02c-4a5e-9fbb-16b84140c0f1"
      },
      "execution_count": null,
      "outputs": [
        {
          "output_type": "execute_result",
          "data": {
            "text/plain": [
              "18.110770276274835"
            ]
          },
          "metadata": {},
          "execution_count": 22
        }
      ]
    },
    {
      "cell_type": "code",
      "source": [
        "# Q2:- Write a code to round a number in python.\n",
        "round(1.786)"
      ],
      "metadata": {
        "colab": {
          "base_uri": "https://localhost:8080/"
        },
        "id": "iau5ygd2fAFX",
        "outputId": "446b5b6e-ac24-4c03-db3e-e06c58a71d71"
      },
      "execution_count": null,
      "outputs": [
        {
          "output_type": "execute_result",
          "data": {
            "text/plain": [
              "2"
            ]
          },
          "metadata": {},
          "execution_count": 33
        }
      ]
    },
    {
      "cell_type": "code",
      "source": [
        "# Q3:- Write a code to find the roots ( x1 , x2 ) of the following quadratic equation:-   10x^2 - 20x + 30 = 0\n",
        "\n",
        "#         Formula :- x = (-b + (b*b - 4*a*c)**0.5)/2*a\n",
        "\n",
        "a= 10\n",
        "b= -20\n",
        "c= 30\n",
        "x1 = (-b + (b*b - 4*a*c)**0.5)/2*a\n",
        "x2 = (-b - (b*b - 4*a*c)**0.5)/2*a\n",
        "print(x1,x2)"
      ],
      "metadata": {
        "colab": {
          "base_uri": "https://localhost:8080/"
        },
        "id": "OoJGOZK5fQGj",
        "outputId": "bfb92e9a-6fcc-4297-bc2e-0112cfb99127"
      },
      "execution_count": null,
      "outputs": [
        {
          "output_type": "stream",
          "name": "stdout",
          "text": [
            "(100+141.4213562373095j) (100-141.4213562373095j)\n"
          ]
        }
      ]
    },
    {
      "cell_type": "code",
      "source": [
        "# Q4:- Given are the length of one side and one angle of right-angled-triangle,\n",
        "#      write a code to calculate the length of the remaining two sides of the triangle. Use the folling image as a reference.\n",
        "\n",
        "x = 5/2\n",
        "side1=5/2\n",
        "side2=2.5*(3)**0.5\n",
        "print(side1,side2)"
      ],
      "metadata": {
        "colab": {
          "base_uri": "https://localhost:8080/"
        },
        "id": "01Slr9P7rDky",
        "outputId": "9663db1a-5420-444d-e3e3-5ccb5d3a3611"
      },
      "execution_count": null,
      "outputs": [
        {
          "output_type": "stream",
          "name": "stdout",
          "text": [
            "2.5 4.330127018922193\n"
          ]
        }
      ]
    },
    {
      "cell_type": "markdown",
      "source": [
        "#Flow Control\n",
        "\n",
        "---\n",
        "\n",
        "\n",
        "\n",
        "---\n",
        "\n",
        "\n",
        "##Theory Questions\n",
        "1. What is the result of bool(“False”)?\n",
        "7. What are the falsy values in Python?\n",
        "8. What is the result of 10 == “10”?\n",
        "9. What is the result of “bag” > “apple”?\n",
        "10. What is the result of not(True or False)?\n",
        "11. Under what circumstances does the expression 18 <= age < 65  evaluate to True?\n",
        "12. What is the output of the following also state why?\n",
        "         (12 and 13) == (13 and 12)\n",
        "8. What is the Order of Precedence for Boolean Operators?\n",
        "9. What marks the end of a statement block or set in Python?\n",
        "\n",
        "##Coding Questions\n",
        "1. Write a code which accepts 2 values from the user, display the maximum amount of the two and finally create a third variable and store the lower value of the two in it and display it.\n",
        "2. Write a code to find the maximum of two numbers. Accept numbers from the end user.\n",
        "3. Write a code that takes a number and check the following conditions.\n",
        "- If the number is divisible by 4, it should print “Mickey”.\n",
        "- If it is divisible by 3, it should print “Mouse”.\n",
        "- If it is divisible by both 3 and 4, it should print 'MickeyMouse\".\n",
        "- Otherwise, it should print the number as it is.\n",
        "4. Write code to check the speed of drivers. Accept 1 variable from the user and name it \"speed\" and check the foolowing conditions.\n",
        "- If the speed is less than 70, it should print \"OK\".\n",
        "- Otherwise, the driver should allocate one point for every 5 km of speeding (70) and print the total number of points.\n",
        "\n",
        " For example, if the speed is 80, it should print: \"Points: 2\". If the driver gets more than 12 points, the code should print: \"License Suspended\"\n",
        "5. Write code that will have 1 input called \"limit\" and prints all numbers between 0 and that limit with the appropriate label to identify 'BUZZ' and 'FIZZ' numbers. For example: if limit is 3, it should print:\n",
        "        0 BUZZ\n",
        "        1 FIZZ\n",
        "        2 BUZZ\n",
        "        3 FIZZ\n",
        "6. Write a code that accepts a variable known as 'limit' from the end user and prints the sum of multiples of 7 and 8 between 0 and limit. For example, if limit is 35, it should return the sum of 0, 32, 35, 7, 8, 14, 16, 21, 24, 28 which is 185."
      ],
      "metadata": {
        "id": "F6FhfYuBYOJT"
      }
    },
    {
      "cell_type": "code",
      "source": [
        "# Q1:- What is the result of bool(“False”)?\n",
        "bool(\"False\")"
      ],
      "metadata": {
        "id": "zK9RjwVPY9-w",
        "colab": {
          "base_uri": "https://localhost:8080/"
        },
        "outputId": "6c505f72-e7a0-4111-a8f8-bb62ff5cff68"
      },
      "execution_count": null,
      "outputs": [
        {
          "output_type": "execute_result",
          "data": {
            "text/plain": [
              "True"
            ]
          },
          "metadata": {},
          "execution_count": 39
        }
      ]
    },
    {
      "cell_type": "code",
      "source": [
        "# Q2:- What are the falsy values in Python?\n",
        "\n",
        "# Ans:- Any integer, floating-point number, or complex number having zero as a value is considered as False"
      ],
      "metadata": {
        "id": "0e6i0tk0H61W"
      },
      "execution_count": null,
      "outputs": []
    },
    {
      "cell_type": "code",
      "source": [
        "# Q3:- What is the result of 10 == “10” ?\n",
        "10 == \"10\""
      ],
      "metadata": {
        "id": "RGaxu0XXH68i",
        "colab": {
          "base_uri": "https://localhost:8080/"
        },
        "outputId": "9ca83304-f5cd-4366-fccb-134b6f33bf56"
      },
      "execution_count": null,
      "outputs": [
        {
          "output_type": "execute_result",
          "data": {
            "text/plain": [
              "False"
            ]
          },
          "metadata": {},
          "execution_count": 1
        }
      ]
    },
    {
      "cell_type": "code",
      "source": [
        "# Q4:- What is the result of “bag” > “apple” ?\n",
        "\"bag\" > \"apples\""
      ],
      "metadata": {
        "colab": {
          "base_uri": "https://localhost:8080/"
        },
        "id": "zd8aOpzMPjFg",
        "outputId": "1ce80e19-2c5b-435f-a787-d806e2c44ec6"
      },
      "execution_count": null,
      "outputs": [
        {
          "output_type": "execute_result",
          "data": {
            "text/plain": [
              "True"
            ]
          },
          "metadata": {},
          "execution_count": 2
        }
      ]
    },
    {
      "cell_type": "code",
      "source": [
        "# Q5:- What is the result of not(True or False)?\n",
        "not(True or False)"
      ],
      "metadata": {
        "colab": {
          "base_uri": "https://localhost:8080/"
        },
        "id": "Dct_2M7xPtft",
        "outputId": "abfa6b4e-c73e-41c0-a59e-b3a689d2bc68"
      },
      "execution_count": null,
      "outputs": [
        {
          "output_type": "execute_result",
          "data": {
            "text/plain": [
              "False"
            ]
          },
          "metadata": {},
          "execution_count": 3
        }
      ]
    },
    {
      "cell_type": "code",
      "source": [
        "# Q6:- Under what circumstances does the expression 18 <= age < 65 evaluate to True ?\n",
        "print('age')\n",
        "age = int(input())\n",
        "\n",
        "if age <= 18 :\n",
        "  print('False')\n",
        "elif age <= 65:\n",
        "  print('True')"
      ],
      "metadata": {
        "colab": {
          "base_uri": "https://localhost:8080/"
        },
        "id": "yeu2_JOhQAGp",
        "outputId": "e270880d-7079-49f8-9006-a6e59d56ba35"
      },
      "execution_count": null,
      "outputs": [
        {
          "output_type": "stream",
          "name": "stdout",
          "text": [
            "age\n",
            "10\n",
            "False\n"
          ]
        }
      ]
    },
    {
      "cell_type": "code",
      "source": [
        "# Q7:- What is the output of the following also state why ?\n",
        "# (12 and 13) == (13 and 12)\n",
        "(12 and 13) == (13 and 12)"
      ],
      "metadata": {
        "colab": {
          "base_uri": "https://localhost:8080/"
        },
        "id": "xCEhgd3aRMSV",
        "outputId": "5cfb1253-018c-420b-a033-9f2bfff78a11"
      },
      "execution_count": null,
      "outputs": [
        {
          "output_type": "execute_result",
          "data": {
            "text/plain": [
              "False"
            ]
          },
          "metadata": {},
          "execution_count": 16
        }
      ]
    },
    {
      "cell_type": "code",
      "source": [
        "# Q8:- What is the Order of Precedence for Boolean Operators ?\n",
        "# Ans:-  and , or , not."
      ],
      "metadata": {
        "id": "A-nX9Rp1T36x"
      },
      "execution_count": null,
      "outputs": []
    },
    {
      "cell_type": "code",
      "source": [
        "# Q9:- What marks the end of a statement block or set in Python ?\n",
        "# Ans:- A line that is indented less than the lines of the block itself signifies the end of a statement block or suite in python."
      ],
      "metadata": {
        "id": "07aEaPfQUTjU"
      },
      "execution_count": null,
      "outputs": []
    },
    {
      "cell_type": "code",
      "source": [
        "#             CODING QUESTION\n",
        "\n",
        "# Q1:- Write a code which accepts 2 values from the user, display the maximum amount of the two and finally create a third\n",
        "#      variable and store the lower value of the two in it and display it.\n",
        "\n",
        "a = int(input())\n",
        "b = int(input())\n",
        "c = 0\n",
        "if a > b:\n",
        "  print('maximum amount A ')\n",
        "  c = b\n",
        "elif b > a:\n",
        "  print('maximum amount B ')\n",
        "  c = a\n",
        "print('lower value',c)"
      ],
      "metadata": {
        "colab": {
          "base_uri": "https://localhost:8080/"
        },
        "id": "T1EhVtpsU_en",
        "outputId": "3e5237cd-a65b-4551-d795-bea0303a9e6d"
      },
      "execution_count": null,
      "outputs": [
        {
          "output_type": "stream",
          "name": "stdout",
          "text": [
            "40\n",
            "50\n",
            "maximum amount B \n",
            "lower value 40\n"
          ]
        }
      ]
    },
    {
      "cell_type": "code",
      "source": [
        "# Q2:- Write a code to find the maximum of two numbers. Accept numbers from the end user.\n",
        "\n",
        "a = int(input())\n",
        "b = int(input())\n",
        "\n",
        "if a > b:\n",
        "  print('maximum amount A ')\n",
        "elif b > a:\n",
        "  print('maximum amount B ')"
      ],
      "metadata": {
        "colab": {
          "base_uri": "https://localhost:8080/"
        },
        "id": "MtXjthyRcy3j",
        "outputId": "6c8be599-0b21-46d5-f995-065f86a3395e"
      },
      "execution_count": null,
      "outputs": [
        {
          "output_type": "stream",
          "name": "stdout",
          "text": [
            "15\n",
            "25\n",
            "maximum amount B \n"
          ]
        }
      ]
    },
    {
      "cell_type": "code",
      "source": [
        "# Q3:- Write a code that takes a number and check the following conditions.\n",
        "\n",
        "# If the number is divisible by 4, it should print “Mickey”.\n",
        "# If it is divisible by 3, it should print “Mouse”.\n",
        "# If it is divisible by both 3 and 4, it should print 'MickeyMouse\".\n",
        "# Otherwise, it should print the number as it is.\n",
        "\n",
        "number = int(input())\n",
        "\n",
        "if number % 3 == 0 and number % 4 == 0:\n",
        "    print('MickeyMouse')\n",
        "elif number % 4 == 0:\n",
        "  print('Mickey')\n",
        "elif number % 3 == 0:\n",
        "    print('Mouse')\n",
        "else:\n",
        "  print('number',number)\n"
      ],
      "metadata": {
        "colab": {
          "base_uri": "https://localhost:8080/"
        },
        "id": "Gf25LtJEeviV",
        "outputId": "d623a639-3bfa-46b9-df95-1d10dee3db6c"
      },
      "execution_count": null,
      "outputs": [
        {
          "output_type": "stream",
          "name": "stdout",
          "text": [
            "1111\n",
            "number 1111\n"
          ]
        }
      ]
    },
    {
      "cell_type": "code",
      "source": [
        "# Q4:- Write code to check the speed of drivers. Accept 1 variable from the user and name it \"speed\" and check the following conditions.\n",
        "\n",
        "# If the speed is less than 70, it should print \"OK\".\n",
        "# Otherwise, the driver should allocate one point for every 5 km of speeding (70) and print the total number of points.\n",
        "# For example, if the speed is 80, it should print: \"Points: 2\". If the driver gets more than 12 points, the code should print: \"License Suspended\"\n",
        "\n",
        "speed = int(input())\n",
        "\n",
        "if speed < 70:\n",
        "    print('ok')\n",
        "else:\n",
        "  point = (speed - 70) // 5\n",
        "  if point > 12:\n",
        "    print('License Suspended')\n",
        "  else:\n",
        "    print('Point', point)"
      ],
      "metadata": {
        "colab": {
          "base_uri": "https://localhost:8080/"
        },
        "id": "WwhtW8aIm_dz",
        "outputId": "60407b25-62e7-473d-ef12-a21fad0e7232"
      },
      "execution_count": null,
      "outputs": [
        {
          "output_type": "stream",
          "name": "stdout",
          "text": [
            "85\n",
            "Point 3\n"
          ]
        }
      ]
    },
    {
      "cell_type": "code",
      "source": [
        "# Q6:- Write code that will have 1 input called \"limit\" and prints all numbers between 0 and that limit with the appropriate label to identify\n",
        "#      'BUZZ' and 'FIZZ' numbers. For example: if limit is 3, it should print:\n",
        "\n",
        "#     0 BUZZ\n",
        "#     1 FIZZ\n",
        "#     2 BUZZ\n",
        "#     3 FIZZ\n",
        "\n",
        "\n",
        "for i in range(0,10):\n",
        " if i % 2 == 0:\n",
        "  print(i,'BUZZ')\n",
        " else:\n",
        "  print(i,'FIZZ')"
      ],
      "metadata": {
        "colab": {
          "base_uri": "https://localhost:8080/"
        },
        "id": "ehhMb3kMqOx9",
        "outputId": "ff28f5b8-bfa8-4f21-e907-e37a3d8960f6"
      },
      "execution_count": null,
      "outputs": [
        {
          "output_type": "stream",
          "name": "stdout",
          "text": [
            "0 BUZZ\n",
            "1 FIZZ\n",
            "2 BUZZ\n",
            "3 FIZZ\n",
            "4 BUZZ\n",
            "5 FIZZ\n",
            "6 BUZZ\n",
            "7 FIZZ\n",
            "8 BUZZ\n",
            "9 FIZZ\n"
          ]
        }
      ]
    },
    {
      "cell_type": "code",
      "source": [
        "# Q7:- Write a code that accepts a variable known as 'limit' from the end user and prints the sum of multiples of 7 and 8 between 0 and limit.\n",
        "#      For example, if limit is 35, it should return the sum of 0, 32, 35, 7, 8, 14, 16, 21, 24, 28 which is 185.\n",
        "\n",
        "sum = 0\n",
        "for limit in range(0,50):\n",
        "  if (limit % 7 == 0) or (limit % 8 == 0):\n",
        "    print(limit,end=' ')\n",
        "    sum = sum + limit\n",
        "print('sum =',sum)"
      ],
      "metadata": {
        "colab": {
          "base_uri": "https://localhost:8080/"
        },
        "id": "B2SMKZLV1Smn",
        "outputId": "15a32167-e431-4f0f-caf3-970a200aeb2b"
      },
      "execution_count": null,
      "outputs": [
        {
          "output_type": "stream",
          "name": "stdout",
          "text": [
            "0 7 8 14 16 21 24 28 32 35 40 42 48 49 sum = 364\n"
          ]
        }
      ]
    },
    {
      "cell_type": "markdown",
      "source": [
        "#Loops\n",
        "\n",
        "---\n",
        "\n",
        "\n",
        "\n",
        "---\n",
        "\n",
        "\n",
        "##Theory Questions\n",
        "1. What does range(1, 10, 2) return?\n",
        "2. Name 3 iterable objects in Python.\n",
        "3. What is the difference between if condition and while loop?\n",
        "4. What is the difference between while and for loop?\n",
        "5. Can we provide more than 3 agruments in range function? State the reason for the same.\n",
        "6. State True or False: Also try to find out the reason for the same if your answer is False.\n",
        "        We Can Create An Infinite Loop Using Range Function.\n",
        "\n",
        "## Coding Questions\n",
        "\n",
        "1. Write a code that accepts a variable called as 'limit' and prints all the prime numbers between 0 and limit.\n",
        "7. Write a code to find all the factors of 24.\n",
        "8. Write a code to find all the prime factors of 100. The output should be as follows:-\n",
        "\n",
        "        Prime Factors of 100:- 2,2,5,5\n",
        "\n",
        " Use the following snippet for reference:-\n",
        "        100 = 100 * 1 (can't divide 1 further)\n",
        "        100 = 50 * 2 (can't divide 2 further)\n",
        "        50 * 2 = 20 * 5 (can't divide 5 further)\n",
        "        20 * 5 = 10 * 2 * 5 (can't divide 2, 5 further)\n",
        "        10 * 2 * 5 = 2 * 5 * 2 * 5 (This is the final answer)\n",
        "\n",
        "4. Write a code that iterates from 1-25.\n",
        "Each loop prints the next prime number and waits for the end user to input 'Y' for yes or 'N' for no.\n",
        "- If the end user's input is 'Y': then output should print the next prime number and waits for the end user to input 'Y' for yes or 'N' for no.\n",
        "- If the end user's input is 'N': then stop the loop."
      ],
      "metadata": {
        "id": "NE-76YAvhhx5"
      }
    },
    {
      "cell_type": "code",
      "source": [],
      "metadata": {
        "id": "Uu2FCWI1-mb3"
      },
      "execution_count": null,
      "outputs": []
    },
    {
      "cell_type": "markdown",
      "source": [
        "5.\n",
        "\n",
        "$$\\sum_{n=0}^{25} \\frac{1}{24} ( \\frac{3}{4} )^n $$"
      ],
      "metadata": {
        "id": "_iaIETUCOjrd"
      }
    },
    {
      "cell_type": "code",
      "source": [
        "limit = 25\n",
        "sum = 0\n",
        "\n",
        "for n in range(0,limit+1):\n",
        "     a = 1/24*3/4**n\n",
        "     sum = sum + a\n",
        "print(sum)\n"
      ],
      "metadata": {
        "id": "dEmDtXlbH7Lw",
        "colab": {
          "base_uri": "https://localhost:8080/"
        },
        "outputId": "56949af3-3a9d-48b3-b704-44bca6ab8a7b"
      },
      "execution_count": null,
      "outputs": [
        {
          "output_type": "stream",
          "name": "stdout",
          "text": [
            "0.16666666666666663\n"
          ]
        }
      ]
    },
    {
      "cell_type": "markdown",
      "source": [
        "6.\n",
        "\n",
        "$$\\prod_{n=1}^{25} \\frac{1}{24} ( \\frac{3}{4} )^n $$"
      ],
      "metadata": {
        "id": "VfAz39bIOb86"
      }
    },
    {
      "cell_type": "code",
      "source": [
        "limit = 25\n",
        "multi = 1\n",
        "\n",
        "for n in range(1,limit+1):\n",
        "     a = 1/24*3/4**n\n",
        "     multi = multi * a\n",
        "print(multi)"
      ],
      "metadata": {
        "id": "F2AAsqKPH7VW",
        "colab": {
          "base_uri": "https://localhost:8080/"
        },
        "outputId": "720d411f-b5d7-4f96-e145-bf39fb6a0f26"
      },
      "execution_count": null,
      "outputs": [
        {
          "output_type": "stream",
          "name": "stdout",
          "text": [
            "5.665694374725699e-219\n"
          ]
        }
      ]
    },
    {
      "cell_type": "markdown",
      "source": [
        "7.\n",
        "\n",
        "$$\\sum_{n=1}^{25} 2^{2^{2^{n}}} $$"
      ],
      "metadata": {
        "id": "F2dlQ6aGOxeV"
      }
    },
    {
      "cell_type": "code",
      "source": [
        "limit = 25\n",
        "sum = 0\n",
        "\n",
        "for n in range(1,limit+1):\n",
        "    a = (2)**2*(2)**2*(2)**n\n",
        "    sum = sum + a\n",
        "print(sum)"
      ],
      "metadata": {
        "colab": {
          "base_uri": "https://localhost:8080/"
        },
        "id": "fgeTcUeeGrqM",
        "outputId": "0465372f-616b-47aa-f7f2-13f9f97feb79"
      },
      "execution_count": null,
      "outputs": [
        {
          "output_type": "stream",
          "name": "stdout",
          "text": [
            "1073741792\n"
          ]
        }
      ]
    },
    {
      "cell_type": "code",
      "source": [
        "#         LOOPS\n",
        "\n",
        "# Q1:- What does range(1, 10, 2) return ?\n",
        "for i in range(1,10,2):\n",
        "  print(i)"
      ],
      "metadata": {
        "id": "gR-WlVFQchYk",
        "colab": {
          "base_uri": "https://localhost:8080/"
        },
        "outputId": "05220686-1945-4118-e973-f71599497ff9"
      },
      "execution_count": null,
      "outputs": [
        {
          "output_type": "stream",
          "name": "stdout",
          "text": [
            "1\n",
            "3\n",
            "5\n",
            "7\n",
            "9\n"
          ]
        }
      ]
    },
    {
      "cell_type": "code",
      "source": [
        "#                    CODING QUESTIONS\n",
        "\n",
        "# Q1:- Write a code that accepts a variable called as 'limit' and prints all the prime numbers between 0 and limit.\n",
        "\n",
        "print('number')\n",
        "limit = int(input())\n",
        "for v in range(0,limit+1):\n",
        "  for k in range(2,int(v**0.5)+1):\n",
        "    if v % k == 0:\n",
        "      break\n",
        "  else:\n",
        "    print(v,end=' ')"
      ],
      "metadata": {
        "id": "qG5sDWkGBrqY",
        "colab": {
          "base_uri": "https://localhost:8080/"
        },
        "outputId": "a1e1ca2c-9149-4c44-dfec-9e0c7e5db839"
      },
      "execution_count": null,
      "outputs": [
        {
          "output_type": "stream",
          "name": "stdout",
          "text": [
            "number\n",
            "25\n",
            "0 1 2 3 5 7 11 13 17 19 23 "
          ]
        }
      ]
    },
    {
      "cell_type": "code",
      "source": [
        "# Q2:- Write a code to find all the factors of 24.\n",
        "\n",
        "factors = 24\n",
        "for i in range(1,factors+1):\n",
        "  if factors % i == 0:\n",
        "    print(i,end=' ')"
      ],
      "metadata": {
        "colab": {
          "base_uri": "https://localhost:8080/"
        },
        "id": "FD4uXJx7ERYh",
        "outputId": "5f9a1be6-465a-4602-d408-7ce8a93340db"
      },
      "execution_count": null,
      "outputs": [
        {
          "output_type": "stream",
          "name": "stdout",
          "text": [
            "1 2 3 4 6 8 12 24 "
          ]
        }
      ]
    },
    {
      "cell_type": "code",
      "source": [
        "# Q3:- Write a code to find all the prime factors of 100. The output should be as follows:\n",
        "\n",
        "n = int(input('Number:- '))\n",
        "i = 2\n",
        "while n > 1:\n",
        "  if n % i == 0:\n",
        "    print(i)\n",
        "    n = n / i\n",
        "  else:\n",
        "      i = i + 1"
      ],
      "metadata": {
        "colab": {
          "base_uri": "https://localhost:8080/"
        },
        "id": "Z39lBWXUGd45",
        "outputId": "047bd64d-250f-4077-fb6c-b22e7840332c"
      },
      "execution_count": null,
      "outputs": [
        {
          "output_type": "stream",
          "name": "stdout",
          "text": [
            "Number:- 100\n",
            "2\n",
            "2\n",
            "5\n",
            "5\n"
          ]
        }
      ]
    },
    {
      "cell_type": "code",
      "source": [
        "num = 100\n",
        "for i in range(num,1):\n",
        " if i % 2 == 0:\n",
        "  num = num / i\n",
        "  print(i)"
      ],
      "metadata": {
        "id": "kHwI1Tmb1oAs"
      },
      "execution_count": null,
      "outputs": []
    },
    {
      "cell_type": "code",
      "source": [
        "# Q4:- Write a code that iterates from 1-25. Each loop prints the next prime number and waits for the end user to input 'Y' for yes or 'N' for no.\n",
        "\n",
        "# If the end user's input is 'Y': then output should print the next prime number and waits for the end user to input 'Y' for yes or 'N' for no.\n",
        "# If the end user's input is 'N': then stop the loop.\n",
        "\n",
        "num = 25\n",
        "\n",
        "for i in range(1,num+1):\n",
        "  for k in range(2,int(i**0.5)+1):\n",
        "    if  i % k == 0:\n",
        "      break\n",
        "  else:\n",
        "    x = input()\n",
        "    if x == 'y':\n",
        "      print(i,end=' ')\n",
        "    else:\n",
        "       print('stop loop')\n",
        "       break"
      ],
      "metadata": {
        "id": "SsChhpNxth6T",
        "colab": {
          "base_uri": "https://localhost:8080/"
        },
        "outputId": "b854769a-f3f6-430f-f5ca-b4b247b4a54c"
      },
      "execution_count": null,
      "outputs": [
        {
          "output_type": "stream",
          "name": "stdout",
          "text": [
            "y\n",
            "1 n\n",
            "stop loop\n"
          ]
        }
      ]
    },
    {
      "cell_type": "code",
      "source": [],
      "metadata": {
        "id": "0HWdSiTU22ZO"
      },
      "execution_count": null,
      "outputs": []
    }
  ]
}