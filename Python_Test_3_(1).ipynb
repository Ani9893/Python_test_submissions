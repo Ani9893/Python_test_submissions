{
  "cells": [
    {
      "cell_type": "markdown",
      "source": [
        "File link - [https://drive.google.com/drive/folders/1273osO1P2wCbn4PMNxywoMbRy7qfS1Db?usp=sharing]\n",
        "\n",
        "The above files has the times of each athelete. Read the files and perform following operations on it.\n",
        "\n",
        "**Problem statement:** We have to get first 3 top scores of each athelete.\n",
        "- Store the data in a dictionary.\n",
        "  \n",
        "  Input - `Hima Das,2000-1-9,2-34,3:21,2.34,2.45,3.01,2:01,2:01,3:10,2-22,2-01,2.01,2:16`\n",
        "  \n",
        "  Output - `{'Name': 'Hima Das', 'DOB': '2000-1-9', 'List_of_time': ['2.34', '3.21', '2.34', '2.45', '3.01', '2.01', '2.01', '3.10', '2.22', '2.01', '2.01', '2.16']}`\n",
        "- First clean the time_string as it has different special characters(2:38, 2-55, etc) inside it. Create `def sanitize(time_string):` to replace other special characters present with `.`\n",
        "\n",
        "  Input - `['2-34', '3:21', '2.34', '2.45', '3.01', '2:01', '2:01', '3:10', '2-22', '2-01', '2.01', '2:16']`\n",
        "\n",
        "  Expected Output - `['2.34', '3.21', '2.34', '2.45', '3.01', '2.01', '2.01', '3.10', '2.22', '2.01', '2.01', '2.16']`\n",
        "\n",
        "- Use Comprehension to reduce code repetitions. (Optional)\n",
        "\n",
        "- Create `def top3(time_string):` which removes duplicates from the time_string, sorts it, then returns the top 3 fastest time values.\n",
        "- Use `try - except` to handle file error.\n",
        "- You still must have a code with a lot of repetitions, so create a function `get_athelete_data(filename):` which will take the filename as the parameter, will call all the above created functions to return top 3 fastest time values of each athelete.\n",
        "\n",
        "  `def get_athelete_data(filename):`\n"
      ],
      "metadata": {
        "id": "4-PFsCnm7swl"
      }
    },
    {
      "cell_type": "code",
      "source": [
        "def first():\n",
        "\n",
        "  time_string = open('/hima.txt')\n",
        "  time_string = time_string.read()\n",
        "  t = time_string.split(',')\n",
        "  dic = {}\n",
        "  dic['Name'] = t[0]\n",
        "  dic['DOB'] = t[1]\n",
        "  dic['List_of_time'] = t[2:14]\n",
        "  return dic\n",
        "first()"
      ],
      "metadata": {
        "id": "2k_qZoTrwaIi",
        "colab": {
          "base_uri": "https://localhost:8080/"
        },
        "outputId": "87671223-9d2d-4fee-cb7d-5822e1eb5ad9"
      },
      "execution_count": null,
      "outputs": [
        {
          "output_type": "execute_result",
          "data": {
            "text/plain": [
              "{'Name': 'Hima Das',\n",
              " 'DOB': '2000-1-9',\n",
              " 'List_of_time': ['2-34',\n",
              "  '3:21',\n",
              "  '2.34',\n",
              "  '2.45',\n",
              "  '3.01',\n",
              "  '2:01',\n",
              "  '2:01',\n",
              "  '3:10',\n",
              "  '2-22',\n",
              "  '2-01',\n",
              "  '2.01',\n",
              "  '2:16\\n']}"
            ]
          },
          "metadata": {},
          "execution_count": 1
        }
      ]
    },
    {
      "cell_type": "code",
      "source": [
        "def sanitize():\n",
        "\n",
        "  c = lambda x:x.replace('-','.').replace(':','.')\n",
        "  l = list((map(c,first()['List_of_time'])))\n",
        "  return l\n",
        "sanitize()"
      ],
      "metadata": {
        "id": "1hM4jazUl34O",
        "colab": {
          "base_uri": "https://localhost:8080/"
        },
        "outputId": "a0a63c1a-db65-47de-848a-b11a8c7fbd5d"
      },
      "execution_count": null,
      "outputs": [
        {
          "output_type": "execute_result",
          "data": {
            "text/plain": [
              "['2.34',\n",
              " '3.21',\n",
              " '2.34',\n",
              " '2.45',\n",
              " '3.01',\n",
              " '2.01',\n",
              " '2.01',\n",
              " '3.10',\n",
              " '2.22',\n",
              " '2.01',\n",
              " '2.01',\n",
              " '2.16\\n']"
            ]
          },
          "metadata": {},
          "execution_count": 2
        }
      ]
    },
    {
      "cell_type": "code",
      "source": [
        "def top3():\n",
        "\n",
        "  l = sanitize()\n",
        "  l = list(map(float,l ))\n",
        "  l = sorted(set(l))\n",
        "  l = l[0:3]\n",
        "  return l\n",
        "top3()"
      ],
      "metadata": {
        "colab": {
          "base_uri": "https://localhost:8080/"
        },
        "id": "WERi69vtT4Gy",
        "outputId": "cf228a31-3d10-4b66-d884-78969a791b07"
      },
      "execution_count": null,
      "outputs": [
        {
          "output_type": "execute_result",
          "data": {
            "text/plain": [
              "[2.01, 2.16, 2.22]"
            ]
          },
          "metadata": {},
          "execution_count": 3
        }
      ]
    },
    {
      "cell_type": "code",
      "source": [
        "# def get_athelete_data(filename):\n",
        "  # Open file\n",
        "  # Perform all the functions inside this function and return Athelete name with top 3 time values\n",
        "\n",
        "def first(f):\n",
        "\n",
        "  time_string = open(f)\n",
        "  time_string = time_string.read()\n",
        "  t = time_string.split(',')\n",
        "  dic = {}\n",
        "  dic['Name'] = t[0]\n",
        "  dic['DOB'] = t[1]\n",
        "  dic['List_of_time'] = t[2:14]\n",
        "  print(dic['Name'],'fastest times are:',end=' ')\n",
        "  return dic\n",
        "\n",
        "def sanitize(f):\n",
        "\n",
        "  c = lambda x:x.replace('-','.').replace(':','.')\n",
        "  l = list((map(c,first(f)['List_of_time'])))\n",
        "  return l\n",
        "\n",
        "def top3(f):\n",
        "\n",
        "  l = sanitize(f)\n",
        "  l = list(map(float,l ))\n",
        "  l = sorted(set(l))\n",
        "  l = l[0:3]\n",
        "  return l\n",
        "print(top3('/dutee.txt'))"
      ],
      "metadata": {
        "id": "vyakUwvxtmkM",
        "colab": {
          "base_uri": "https://localhost:8080/"
        },
        "outputId": "07f46b07-96d5-46e4-8cd7-fcd680a4983d"
      },
      "execution_count": null,
      "outputs": [
        {
          "output_type": "stream",
          "name": "stdout",
          "text": [
            "Dutee Chand fastest times are: [2.11, 2.23, 2.59]\n"
          ]
        }
      ]
    },
    {
      "cell_type": "code",
      "source": [
        "filenames = ['/hima.txt', '/dutee.txt', '/ptusha.txt', '/sekar.txt']\n",
        "for i in filenames:\n",
        "  print(top3(i))"
      ],
      "metadata": {
        "colab": {
          "base_uri": "https://localhost:8080/"
        },
        "id": "TAFeCnbYbZne",
        "outputId": "d0fe19aa-6008-4f15-c06e-976aa3bad0ac"
      },
      "execution_count": null,
      "outputs": [
        {
          "output_type": "stream",
          "name": "stdout",
          "text": [
            "Hima Das fastest times are: [2.01, 2.16, 2.22]\n",
            "Dutee Chand fastest times are: [2.11, 2.23, 2.59]\n",
            "PT Usha fastest times are: [2.18, 2.21, 2.22]\n",
            "Sekar Dhanalakshmi fastest times are: [2.22, 2.31, 2.38]\n"
          ]
        }
      ]
    },
    {
      "cell_type": "markdown",
      "source": [
        "Expected Output -\n",
        "\n",
        "Hima Das 's fastest times are:  ['2.01', '2.16', '2.22']\n",
        "\n",
        "Dutee Chand 's fastest times are:  ['2.11', '2.23', '2.59']\n",
        "\n",
        "PT Usha 's fastest times are:  ['2.18', '2.21', '2.22']\n",
        "\n",
        "Sekar Dhanalakshmi 's fastest times are:  ['2.22', '2.31', '2.38']"
      ],
      "metadata": {
        "id": "tYU94w9wbesG"
      }
    }
  ],
  "metadata": {
    "colab": {
      "provenance": []
    },
    "kernelspec": {
      "display_name": "Python 3",
      "name": "python3"
    }
  },
  "nbformat": 4,
  "nbformat_minor": 0
}